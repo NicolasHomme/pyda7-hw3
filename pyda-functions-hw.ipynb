{
 "cells": [
  {
   "cell_type": "markdown",
   "metadata": {},
   "source": [
    "## Задание 1"
   ]
  },
  {
   "cell_type": "markdown",
   "metadata": {},
   "source": [
    "Дан список вида:"
   ]
  },
  {
   "cell_type": "code",
   "execution_count": 1,
   "metadata": {},
   "outputs": [
    {
     "name": "stdout",
     "output_type": "stream",
     "text": [
      "Сумма элементов по диагонали равна 103\n"
     ]
    }
   ],
   "source": [
    "def summ_diagonal_elements(data):\n",
    "    summ_elements = 0\n",
    "    i = 0\n",
    "    for elements in data:\n",
    "        #print (elements)\n",
    "        summ_elements += elements[i]\n",
    "        i += 1\n",
    "    return summ_elements\n",
    "\n",
    "data = [\n",
    "    [13, 25, 23, 34],\n",
    "    [45, 32, 44, 47],\n",
    "    [12, 33, 23, 95],\n",
    "    [13, 53, 34, 35]\n",
    "]\n",
    "\n",
    "print(f'Сумма элементов по диагонали равна {summ_diagonal_elements(data)}')"
   ]
  },
  {
   "cell_type": "markdown",
   "metadata": {},
   "source": [
    "Напишите функцию, которая возвращает сумму элементов на диагонали. Т. е. 13+32+23+35.  \n",
    "Список может быть любой длины, но всегда является \"квадратным\" (количество элементов во вложенных списках равно их количеству)."
   ]
  },
  {
   "cell_type": "markdown",
   "metadata": {},
   "source": [
    "## Задание 2"
   ]
  },
  {
   "cell_type": "markdown",
   "metadata": {},
   "source": [
    "Напишите функцию, возвращающую сумму первых n чисел Фибоначчи (для этого вам может понадобится ознакомиться с рекурсией)."
   ]
  },
  {
   "cell_type": "code",
   "execution_count": 2,
   "metadata": {},
   "outputs": [
    {
     "name": "stdout",
     "output_type": "stream",
     "text": [
      "Введите количество чисел для ряда Фибоначчи: 10\n",
      "Последовательность имеет вид: [1, 1, 2, 3, 5, 8, 13, 21, 34, 55]\n",
      "Сумма первых 10 чисел последовательности Фибоначчи равна 143\n"
     ]
    },
    {
     "data": {
      "text/plain": [
       "True"
      ]
     },
     "execution_count": 2,
     "metadata": {},
     "output_type": "execute_result"
    }
   ],
   "source": [
    "\"\"\"\n",
    "Числа Фибоначчи — элементы числовой последовательности, в которой первые два числа равны 1 и 1,  \n",
    "а каждое последующее число равно сумме двух предыдущих чисел\n",
    "\"\"\"\n",
    "def get_fib_list(fib_count):\n",
    "    \"\"\"\n",
    "    Получение ряда Фибоначчи\n",
    "    \"\"\"\n",
    "    fib = []\n",
    "    i = 0\n",
    "    while i < fib_count:\n",
    "        if i == 0 or i == 1:\n",
    "            fib.append(1)\n",
    "        else :\n",
    "            fib.append(fib[i-1] + fib[i-2])\n",
    "        i += 1\n",
    "    return fib\n",
    "\n",
    "def main():\n",
    "    input_str = input ('Введите количество чисел для ряда Фибоначчи: ')\n",
    "    if str.isnumeric(input_str):\n",
    "        n = int(input_str)\n",
    "        if n < 1:\n",
    "            print(f'Некорректное значение!')\n",
    "            return False\n",
    "    else:\n",
    "        print(f'Некорректное значение!')\n",
    "        return False \n",
    "    fib_list = get_fib_list(n)\n",
    "    print(f'Последовательность имеет вид: {fib_list}')\n",
    "    print(f'Сумма первых {n} чисел последовательности Фибоначчи равна {sum(fib_list)}')\n",
    "    return True\n",
    "    \n",
    "main()"
   ]
  },
  {
   "cell_type": "markdown",
   "metadata": {},
   "source": [
    "## Задание 3\n"
   ]
  },
  {
   "cell_type": "markdown",
   "metadata": {},
   "source": [
    "Напишите функцию, преобразующую произвольный список вида ['2018-01-01', 'yandex', 'cpc', 100] (он может быть любой длины) в словарь {'2018-01-01': {'yandex': {'cpc': 100}}}"
   ]
  },
  {
   "cell_type": "code",
   "execution_count": 2,
   "metadata": {},
   "outputs": [
    {
     "name": "stdout",
     "output_type": "stream",
     "text": [
      "Исходный список преобразован в словарь вида\n",
      " {'2018-01-01': {'yandex': {'cpc': 100}}}\n"
     ]
    }
   ],
   "source": [
    "def return_dict(my_list):\n",
    "    my_dict = {}\n",
    "    first, *other = my_list\n",
    "    if len(other) == 0:\n",
    "        return first\n",
    "    my_dict[first] = return_dict(other)\n",
    "    return my_dict\n",
    "\n",
    "data = ['2018-01-01', 'yandex', 'cpc', 100]\n",
    "print(f'Исходный список преобразован в словарь вида\\n {return_dict(data)}')"
   ]
  },
  {
   "cell_type": "markdown",
   "metadata": {},
   "source": [
    "## Задание 4"
   ]
  },
  {
   "cell_type": "markdown",
   "metadata": {},
   "source": [
    "Вы работаете секретарем и вам постоянно приходят различные документы. Вы должны быть очень внимательны, чтобы не потерять ни один документ. Каталог документов хранится в следующем виде:"
   ]
  },
  {
   "cell_type": "code",
   "execution_count": 4,
   "metadata": {},
   "outputs": [],
   "source": [
    "documents = [\n",
    "    {'type': 'passport', 'number': '2207 876234', 'name': 'Василий Гупкин'},\n",
    "    {'type': 'invoice', 'number': '11-2', 'name': 'Геннадий Покемонов'},\n",
    "    {'type': 'insurance', 'number': '10006', 'name': 'Аристарх Павлов'}\n",
    "]"
   ]
  },
  {
   "cell_type": "markdown",
   "metadata": {},
   "source": [
    "Перечень полок, на которых находятся документы хранится в следующем виде:"
   ]
  },
  {
   "cell_type": "code",
   "execution_count": 5,
   "metadata": {},
   "outputs": [],
   "source": [
    "directories = {\n",
    "    '1': ['2207 876234', '11-2', '5455 028765'],\n",
    "    '2': ['10006', '5400 028765', '5455 002299'],\n",
    "    '3': []\n",
    "}"
   ]
  },
  {
   "cell_type": "markdown",
   "metadata": {},
   "source": [
    "Необходимо реализовать пользовательские команды (внимание! это не название функций, которые должны быть выразительными, а команды, которые вводит пользователь, чтобы получить необходимый результат):\n",
    "  \n",
    "- p – people – команда, которая спросит номер документа и выведет имя человека, которому он принадлежит;  \n",
    "- s – shelf – команда, которая спросит номер документа и выведет номер полки, на которой он находится  \n",
    "Правильно обработайте ситуацию, когда пользователь будет вводить несуществующий документ.\n",
    "- l – list – команда, которая выведет список всех документов в формате   \n",
    "**passport \"2207 876234\" \"Василий Гупкин\"**  \n",
    "- as – add shelf – команда, которая спросит номер новой полки и добавит ее в перечень\n",
    "- d – delete – команда, которая спросит номер документа и удалит его из каталога и из перечня полок. Предусмотрите сценарий, когда пользователь вводит несуществующий документ;  \n",
    "- m – move – команда, которая спросит номер документа и целевую полку и переместит его с текущей полки на целевую. Корректно обработайте кейсы, когда пользователь пытается переместить несуществующий документ или переместить документ на несуществующую полку;  \n",
    "- a – add – команда, которая добавит новый документ в каталог и в перечень полок, спросив его номер, тип, имя владельца и номер полки, на котором он будет храниться."
   ]
  },
  {
   "cell_type": "code",
   "execution_count": 4,
   "metadata": {},
   "outputs": [
    {
     "name": "stdout",
     "output_type": "stream",
     "text": [
      "Введите команду: l\n",
      "passport \"2207 876234\" \"Василий Гупкин\"\n",
      "invoice \"11-2\" \"Геннадий Покемонов\"\n",
      "insurance \"10006\" \"Аристарх Павлов\"\n",
      "{'1': ['2207 876234', '11-2', '5455 028765'], '2': ['10006', '5400 028765', '5455 002299'], '3': []}\n",
      "Введите команду: a\n",
      "Введите номер документа: 11-3\n",
      "Введите тип документа: pass\n",
      "Введите ФИО владельца документа: Ivanov\n",
      "Введите номер полки для хранения документа: 3\n",
      "Введите команду: l\n",
      "passport \"2207 876234\" \"Василий Гупкин\"\n",
      "invoice \"11-2\" \"Геннадий Покемонов\"\n",
      "insurance \"10006\" \"Аристарх Павлов\"\n",
      "pass \"11-3\" \"Ivanov\"\n",
      "{'1': ['2207 876234', '11-2', '5455 028765'], '2': ['10006', '5400 028765', '5455 002299'], '3': ['11-3']}\n",
      "Введите команду: m\n",
      "Введите номер документа для перемещения: 11-3\n",
      "Введите номер полки для перемещения документа: 4\n",
      "Такой полки для перемещения документа не существует!\n",
      "Введите команду: m\n",
      "Введите номер документа для перемещения: 11-2\n",
      "Введите номер полки для перемещения документа: 3\n",
      "Документ удален с полки 1 и перемещен на полку 3\n",
      "Введите команду: l\n",
      "passport \"2207 876234\" \"Василий Гупкин\"\n",
      "invoice \"11-2\" \"Геннадий Покемонов\"\n",
      "insurance \"10006\" \"Аристарх Павлов\"\n",
      "pass \"11-3\" \"Ivanov\"\n",
      "{'1': ['2207 876234', '5455 028765'], '2': ['10006', '5400 028765', '5455 002299'], '3': ['11-3', '11-2']}\n",
      "Введите команду: q\n"
     ]
    },
    {
     "data": {
      "text/plain": [
       "True"
      ]
     },
     "execution_count": 4,
     "metadata": {},
     "output_type": "execute_result"
    }
   ],
   "source": [
    "def get_name_from_docs(doc_number, documents):\n",
    "    for docs in documents:\n",
    "        if docs['number'] == doc_number:\n",
    "            return docs['name']\n",
    "    return 'Не найден такой документ.'\n",
    "\n",
    "def get_name_from_directories(doc_number, documents, directories):\n",
    "    for docs in documents:\n",
    "        if docs['number'] == doc_number:\n",
    "            for key, value in directories.items():\n",
    "                if docs['number'] in value:\n",
    "                    return 'Номер полки '+key\n",
    "            return 'Не найден номер полки для документа '+ docs['number']\n",
    "    return 'Не найден такой документ.'\n",
    "\n",
    "def get_docs_list(documents, directories):\n",
    "    for docs in documents:\n",
    "        print(docs['type']+' \"'+docs['number']+'\" \"'+docs['name']+'\"')\n",
    "    print(directories)\n",
    "\n",
    "def add_shelf(new_shelf, directories):\n",
    "    if directories.get(new_shelf):\n",
    "        print('Такая полка уже существует!')\n",
    "    else:\n",
    "        directories[new_shelf]=[]\n",
    "        print('Новая полка добавлена.\\nОбщий список: ',directories)\n",
    "    return True\n",
    "\n",
    "def delete_doc(doc_number, documents, directories):\n",
    "    doc_exist = 0\n",
    "    for docs in documents:\n",
    "        if doc_number in docs['number']:\n",
    "            doc_exist = 1\n",
    "    if not doc_exist:\n",
    "        print('Такого номера документа не существует!')\n",
    "        return False\n",
    "    i = 1\n",
    "    for docs in documents:\n",
    "        if docs['number'] == doc_number:        \n",
    "            for key, value in directories.items():\n",
    "                if docs['number'] in value:\n",
    "                    value.remove(docs['number'])\n",
    "                    print('Документ удален с полки', key)\n",
    "            print('Документ',documents.pop(i),'удален')\n",
    "            i += 1\n",
    "    return True\n",
    "\n",
    "def move_doc(documents, directories):\n",
    "    doc_number = input('Введите номер документа для перемещения: ')\n",
    "    doc_shelf = input('Введите номер полки для перемещения документа: ')\n",
    "    doc_exist = 0\n",
    "    for docs in documents:\n",
    "        if doc_number in docs['number']:\n",
    "            doc_exist = 1\n",
    "    if not doc_exist:\n",
    "        print('Такого номера документа не существует!')\n",
    "        return False\n",
    "    if doc_shelf not in directories:\n",
    "        print('Такой полки для перемещения документа не существует!')\n",
    "        return False\n",
    "    for docs in documents:\n",
    "        if docs['number'] == doc_number:        \n",
    "            for key, value in directories.items():\n",
    "                if docs['number'] in value:\n",
    "                    value.remove(docs['number'])\n",
    "                    directories[doc_shelf].append(docs['number'])\n",
    "                    print('Документ удален с полки', key, 'и перемещен на полку', doc_shelf)\n",
    "                    return True\n",
    "    return True\n",
    "\n",
    "def add_doc(documents, directories):\n",
    "    doc_number = input('Введите номер документа: ')\n",
    "    doc_type = input('Введите тип документа: ')\n",
    "    doc_name = input('Введите ФИО владельца документа: ')\n",
    "    doc_shelf = input('Введите номер полки для хранения документа: ')\n",
    "    if doc_shelf not in directories:\n",
    "        print('Такой полки для создания документа не существует!')\n",
    "        return False\n",
    "    documents.append({'type': doc_type, 'number': doc_number, 'name': doc_name})\n",
    "    directories[doc_shelf].append(doc_number)\n",
    "    return True\n",
    "    \n",
    "def main():\n",
    "    while True:\n",
    "        button = input('Введите команду: ')\n",
    "        if button == 'p':\n",
    "            print(get_name_from_docs(input('Введите номер документа: '), documents))\n",
    "        elif button == 's':\n",
    "            print(get_name_from_directories(input('Введите номер документа: '), documents, directories))\n",
    "        elif button == 'l':\n",
    "            get_docs_list(documents, directories)\n",
    "        elif button == 'as':\n",
    "            add_shelf(input('Введите номер новой полки: '), directories)\n",
    "        elif button == 'd':\n",
    "            delete_doc(input('Введите номер документа для удаления: '), documents, directories)\n",
    "        elif button == 'm':\n",
    "            move_doc(documents, directories)\n",
    "        elif button == 'a':\n",
    "            add_doc(documents, directories)\n",
    "        elif button == 'q':\n",
    "            break\n",
    "        else:\n",
    "            print(f'Допустимы только команды из перечня p,s,l,as,d,m,a.\\nВведите команду или нажмите q для выхода!')\n",
    "    return True\n",
    "    \n",
    "documents = [\n",
    "    {'type': 'passport', 'number': '2207 876234', 'name': 'Василий Гупкин'},\n",
    "    {'type': 'invoice', 'number': '11-2', 'name': 'Геннадий Покемонов'},\n",
    "    {'type': 'insurance', 'number': '10006', 'name': 'Аристарх Павлов'}\n",
    "    ]\n",
    "directories = {\n",
    "    '1': ['2207 876234', '11-2', '5455 028765'],\n",
    "    '2': ['10006', '5400 028765', '5455 002299'],\n",
    "    '3': []\n",
    "    }\n",
    "main()"
   ]
  },
  {
   "cell_type": "code",
   "execution_count": null,
   "metadata": {},
   "outputs": [],
   "source": []
  }
 ],
 "metadata": {
  "kernelspec": {
   "display_name": "Python 3",
   "language": "python",
   "name": "python3"
  },
  "language_info": {
   "codemirror_mode": {
    "name": "ipython",
    "version": 3
   },
   "file_extension": ".py",
   "mimetype": "text/x-python",
   "name": "python",
   "nbconvert_exporter": "python",
   "pygments_lexer": "ipython3",
   "version": "3.7.1"
  }
 },
 "nbformat": 4,
 "nbformat_minor": 2
}
